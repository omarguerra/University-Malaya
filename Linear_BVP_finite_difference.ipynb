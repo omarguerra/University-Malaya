{
  "nbformat": 4,
  "nbformat_minor": 0,
  "metadata": {
    "colab": {
      "name": "Linear BVP finite difference.ipynb",
      "provenance": [],
      "authorship_tag": "ABX9TyNPudm9h4oRulHOOaWADNUb",
      "include_colab_link": true
    },
    "kernelspec": {
      "name": "python3",
      "display_name": "Python 3"
    }
  },
  "cells": [
    {
      "cell_type": "markdown",
      "metadata": {
        "id": "view-in-github",
        "colab_type": "text"
      },
      "source": [
        "<a href=\"https://colab.research.google.com/github/omarguerra/University-Malaya/blob/master/Linear_BVP_finite_difference.ipynb\" target=\"_parent\"><img src=\"https://colab.research.google.com/assets/colab-badge.svg\" alt=\"Open In Colab\"/></a>"
      ]
    },
    {
      "cell_type": "code",
      "metadata": {
        "id": "tgl_ooQLvSM4",
        "outputId": "56039fb1-fd6a-478d-bf3c-c8c0c9653975",
        "colab": {
          "base_uri": "https://localhost:8080/",
          "height": 959
        }
      },
      "source": [
        "import numpy as np\n",
        "import scipy.sparse\n",
        "from scipy.linalg import solve\n",
        "import matplotlib.pyplot as mpl\n",
        "\n",
        "#the problem considers a linear BVP -u\"+ (pi)^2u = 2(pi)^2cos(pi*x) where u(0)= 1 and u(1)= -1\n",
        "#We also have chose h=1/8, we now try to find U matrix and plot the result\n",
        "\n",
        "#declaring all the parameters \n",
        "N = 7\n",
        "p = 0\n",
        "q = np.pi**2\n",
        "h = 1/(N+1)\n",
        "\n",
        "#we define the function f(x)\n",
        "def f(x):\n",
        "  return 2*(np.pi**2)*np.cos(np.pi*x)\n",
        "\n",
        "#we now set the boundary conditions\n",
        "g0 = 1.0\n",
        "g1 = -1.0\n",
        "\n",
        "#Using the algorithm for finite difference method for linear BVPS we create a triadiagonal matrix system AU =b\n",
        "#build the index that distributes algorithm along diagonals of matrix A\n",
        "a = np.zeros((3,N))\n",
        "a[0,:]=-(1.0+0.5*p*h)\n",
        "a[1,:]=(2+q*h**2)\n",
        "a[2,:]=-(1.0-0.5*p*h)\n",
        "\n",
        "#transform index into triadiagonal matrix A, print A into array\n",
        "A = scipy.sparse.spdiags(a,[-1,0,1],N,N,format='csc')\n",
        "A = A.toarray()\n",
        "\n",
        "#Create matrix b\n",
        "b = np.zeros((N,1))\n",
        "b[0,:]=(1.0+0.5*p*h)*g0 + (h**2*f(0.125))\n",
        "b[1,:]=(h**2)*f(0.25)\n",
        "b[2,:]=(h**2)*f(0.375)\n",
        "b[3,:]=(h**2)*f(0.5)\n",
        "b[4,:]=(h**2)*f(0.625)\n",
        "b[5,:]=(h**2)*f(0.75)\n",
        "b[6,:]=(1.0-0.5*p*h)*g1 + (h**2*f(0.875))\n",
        "\n",
        "print('Matrix A =\\n')\n",
        "print(A)\n",
        "print('\\n')\n",
        "print('Matix b =\\n')\n",
        "print(b)\n",
        "print('\\n')\n",
        "\n",
        "\n",
        "#Solve the triadiagonal matrix\n",
        "U =solve(A,b)\n",
        "print('Final result U=\\n')\n",
        "print(U)\n",
        "print('\\n')\n",
        "\n",
        "\n",
        "#plot the matrix\n",
        "\n",
        "#first create another matrix as x-scalar for your result\n",
        "#x is varying with h\n",
        "x = np.zeros((N,1))\n",
        "x[0,:]=0.125\n",
        "x[1,:]=0.25\n",
        "x[2,:]=0.375\n",
        "x[3,:]=0.5\n",
        "x[4,:]=0.625\n",
        "x[5,:]=0.75\n",
        "x[6,:]=0.875\n",
        "\n",
        "#label your plot\n",
        "mpl.xlabel('x')\n",
        "mpl.ylabel('U(x)')\n",
        "\n",
        "#plot matrix x and U\n",
        "mpl.plot(x.T,U.T,'bo')\n",
        "\n",
        "#put the boundary condition in your plot\n",
        "xx = [0.0,1.0]\n",
        "yy = [1.0,-1.0]\n",
        "mpl.plot(xx,yy,'r--')\n",
        "\n",
        "#show graph\n",
        "mpl.show()"
      ],
      "execution_count": null,
      "outputs": [
        {
          "output_type": "stream",
          "text": [
            "Matrix A =\n",
            "\n",
            "[[ 2.15421257 -1.          0.          0.          0.          0.\n",
            "   0.        ]\n",
            " [-1.          2.15421257 -1.          0.          0.          0.\n",
            "   0.        ]\n",
            " [ 0.         -1.          2.15421257 -1.          0.          0.\n",
            "   0.        ]\n",
            " [ 0.          0.         -1.          2.15421257 -1.          0.\n",
            "   0.        ]\n",
            " [ 0.          0.          0.         -1.          2.15421257 -1.\n",
            "   0.        ]\n",
            " [ 0.          0.          0.          0.         -1.          2.15421257\n",
            "  -1.        ]\n",
            " [ 0.          0.          0.          0.          0.         -1.\n",
            "   2.15421257]]\n",
            "\n",
            "\n",
            "Matix b =\n",
            "\n",
            "[[ 1.28494767e+00]\n",
            " [ 2.18089506e-01]\n",
            " [ 1.18029190e-01]\n",
            " [ 1.88855929e-17]\n",
            " [-1.18029190e-01]\n",
            " [-2.18089506e-01]\n",
            " [-1.28494767e+00]]\n",
            "\n",
            "\n",
            "Final result U=\n",
            "\n",
            "[[ 0.92570593]\n",
            " [ 0.70921967]\n",
            " [ 0.3840145 ]\n",
            " [ 0.        ]\n",
            " [-0.3840145 ]\n",
            " [-0.70921967]\n",
            " [-0.92570593]]\n",
            "\n",
            "\n"
          ],
          "name": "stdout"
        },
        {
          "output_type": "display_data",
          "data": {
            "image/png": "[encoded data removed]",
            "text/plain": [
              "<Figure size 432x288 with 1 Axes>"
            ]
          },
          "metadata": {
            "tags": [],
            "needs_background": "light"
          }
        }
      ]
    }
  ]
}